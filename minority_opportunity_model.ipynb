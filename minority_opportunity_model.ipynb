{
  "nbformat": 4,
  "nbformat_minor": 0,
  "metadata": {
    "colab": {
      "name": "minority_opportunity_model.ipynb",
      "provenance": [],
      "include_colab_link": true
    },
    "kernelspec": {
      "name": "python3",
      "display_name": "Python 3"
    },
    "language_info": {
      "name": "python"
    }
  },
  "cells": [
    {
      "cell_type": "markdown",
      "metadata": {
        "id": "view-in-github",
        "colab_type": "text"
      },
      "source": [
        "<a href=\"https://colab.research.google.com/github/drscook/MathVGerrmandering_CMAT_2022/blob/main/minority_opportunity_model.ipynb\" target=\"_parent\"><img src=\"https://colab.research.google.com/assets/colab-badge.svg\" alt=\"Open In Colab\"/></a>"
      ]
    },
    {
      "cell_type": "markdown",
      "source": [
        "Pick an election and a VTD.  Let $x$ represent a specific candidate.\n",
        "\n",
        "### Hierachial model\n",
        "\n",
        "- votes$_x$ = hisp_votes$_x$ + white_votes$_x$ + other_votes$_x$\n",
        " - hisp_votes$_x$ = hisp_votes$_{total}$ * hisp_preference$_x$\n",
        "   - hisp_votes$_{total}$ = hisp_vap * hisp_participation_rate\n",
        " - white_votes$_x$ = white_votes$_{total}$ * white_preference$_x$\n",
        "   - white_votes$_{total}$ = white_vap * white_participation_rate\n",
        " - other_votes$_x$ = other_votes$_{total}$ * other_preference$_x$\n",
        "   - other_votes$_{total}$ = other_vap * other_participation_rate\n",
        "\n",
        "(vap = voting age population)\n",
        "\n",
        "### Have data for:\n",
        "- votes$_x$\n",
        "- hisp_vap\n",
        "- white_vap\n",
        "- other_vap\n",
        "\n",
        "### Have equations for:\n",
        "- hisp_votes$_x$\n",
        "- hisp_votes$_{total}$\n",
        "- white_votes$_x$\n",
        "- white_votes$_{total}$\n",
        "- other_votes$_x$\n",
        "- other_votes$_{total}$\n",
        "\n",
        "### Need expressions based on census data for:\n",
        "- hisp_preference$_x$\n",
        "- hisp_participation_rate\n",
        "- white_preference$_x$\n",
        "- white_participation_rate\n",
        "- other_preference$_x$\n",
        "- other_participation_rate"
      ],
      "metadata": {
        "id": "A4qSGI0LaZW2"
      }
    }
  ]
}