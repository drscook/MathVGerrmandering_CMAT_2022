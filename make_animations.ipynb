{
  "nbformat": 4,
  "nbformat_minor": 0,
  "metadata": {
    "colab": {
      "name": "make_animations.ipynb",
      "provenance": [],
      "collapsed_sections": [],
      "mount_file_id": "12E7rK9OalsHeb3XqI66F6Ya85tOwU4VP",
      "authorship_tag": "ABX9TyOc7xqoI1+i0BExwCCPMKd2",
      "include_colab_link": true
    },
    "kernelspec": {
      "name": "python3",
      "display_name": "Python 3"
    },
    "language_info": {
      "name": "python"
    }
  },
  "cells": [
    {
      "cell_type": "markdown",
      "metadata": {
        "id": "view-in-github",
        "colab_type": "text"
      },
      "source": [
        "<a href=\"https://colab.research.google.com/github/drscook/MathVGerrmandering_CMAT_2022/blob/main/make_animations.ipynb\" target=\"_parent\"><img src=\"https://colab.research.google.com/assets/colab-badge.svg\" alt=\"Open In Colab\"/></a>"
      ]
    },
    {
      "cell_type": "code",
      "execution_count": null,
      "metadata": {
        "id": "ilporhvqBBSe"
      },
      "outputs": [],
      "source": [
        "! pip install -q condacolab  \n",
        "import condacolab\n",
        "condacolab.install()  \n",
        "! conda install -q -y -c conda-forge mamba \n",
        "! mamba install -q -y -c conda-forge gerrychain geopandas\n",
        "! mamba install -q -y -c patrikhlobil pandas-bokeh"
      ]
    },
    {
      "cell_type": "code",
      "source": [
        "import pathlib, numpy as np, pandas as pd, geopandas as gpd, networkx as nx, gerrychain as gc\n",
        "from functools import partial\n",
        "from google.colab import drive\n",
        "drive.mount('/content/drive')\n",
        "meters_per_mile = 1609.34\n",
        "\n",
        "path = pathlib.Path('/content/drive/MyDrive/gerrymandering/2021_data')\n",
        "data_file = path / 'TX_2020_vtd.parquet'\n",
        "graph_file = path / 'TX_2020_vtd_graph.json'\n",
        "\n",
        "cols = ['geometry', 'fips', 'county', 'total', 'density', 'polsby_popper', 'aland', 'perim', 'plans2168']\n",
        "if not data_file.is_file():\n",
        "    ! pip install gdown    \n",
        "    ! gdown 1ikMlLlKSCPNemsrh-l3XFamFL8GoK3eM -O {str(data_file)}\n",
        "gdf = gpd.read_parquet(data_file, columns=cols)\n",
        "\n",
        "crs = {\n",
        "    'census': 'EPSG:4269'  , # degrees - used by Census\n",
        "    'area'  : 'ESRI:102003', # meters\n",
        "    'length': 'ESRI:102005', # meters\n",
        "}\n",
        "\n",
        "try:\n",
        "    G = gc.Graph.from_json(graph_file)\n",
        "except FileNotFoundError:\n",
        "    G = gc.Graph.from_geodataframe(gdf[['geometry']].to_crs(crs['length']), reproject=False)\n",
        "    G.to_json(graph_file)\n",
        "\n",
        "gdf['seats'] = gdf['total'] / gdf['total'].sum() * 31\n",
        "G.add_data(gdf.drop(columns='geometry'))"
      ],
      "metadata": {
        "id": "NYcWQz50BFe4"
      },
      "execution_count": null,
      "outputs": []
    },
    {
      "cell_type": "code",
      "source": [
        "from gerrychain.proposals import recom\n",
        "from gerrychain.accept import always_accept\n",
        "\n",
        "def get_defect(p):\n",
        "    I = dict()\n",
        "    W = dict()\n",
        "    for x, district in p.assignment.items():\n",
        "        county = G.nodes[x]['county']\n",
        "        I.setdefault(county  , set()).add(district)\n",
        "        W.setdefault(district, set()).add(county)\n",
        "\n",
        "    inter = inter_target.copy()\n",
        "    for county, districts in I.items():\n",
        "        inter[county] -= len(districts)\n",
        "\n",
        "    whole = whole_target.copy()\n",
        "    for district, counties in W.items():\n",
        "        if len(counties) == 1:\n",
        "            county = counties.pop()\n",
        "            whole[county] -= 1\n",
        "    # defect = {county: abs(inter[county]) + abs(whole[county]) for county in seats.keys()}\n",
        "    return sum(abs(inter[county]) + abs(whole[county]) for county in inter.keys())\n",
        "\n",
        "def get_polsby_popper(p):\n",
        "    for H in p.subgraphs:\n",
        "        A = sum(d for x, d in H.nodes(data='aland'))\n",
        "        perim_extern = sum(d for x,    d in H.nodes(data='perim'))\n",
        "        perim_intern = sum(d for x, y, d in H.edges(data='shared_perim'))\n",
        "        P = perim_extern - 2 * perim_intern\n",
        "        return 4 * np.pi * A / P**2\n",
        "\n",
        "\n",
        "initial_partition = gc.GeographicPartition(\n",
        "    G,\n",
        "    assignment=\"plans2168\",\n",
        "    updaters={\n",
        "        \"cut_edges\" : gc.updaters.cut_edges,\n",
        "        \"population\": gc.updaters.Tally(\"total\", alias=\"population\"),\n",
        "        \"defect\"    : get_defect,\n",
        "        \"polsby_popper\" : get_polsby_popper,\n",
        "    }\n",
        ")\n",
        "\n",
        "\n",
        "seats = {G.nodes[x]['county']:0 for x, d in G.nodes(data='county')}\n",
        "for x, d in G.nodes(data=True):\n",
        "    seats[d['county']] += d['seats']\n",
        "whole_target = {c: int(np.floor(s)) for c, s in seats.items()}\n",
        "inter_target = {c: int(np.ceil (s)) for c, s in seats.items()}\n",
        "ideal_defect = get_defect(initial_partition)\n",
        "ideal_population = sum(initial_partition[\"population\"].values()) / len(initial_partition)\n",
        "\n",
        "pop_constraint    = gc.constraints.within_percent_of_ideal_population(initial_partition, 0.5)\n",
        "defect_constraint = gc.constraints.SelfConfiguringUpperBound(get_defect)\n",
        "\n",
        "proposal = partial(recom,\n",
        "                   pop_col=\"total\",\n",
        "                   pop_target=ideal_population,\n",
        "                   epsilon=0.02,\n",
        "                   node_repeats=2\n",
        "                  )\n",
        "\n",
        "chain = gc.MarkovChain(\n",
        "    proposal=proposal,\n",
        "    constraints=[\n",
        "        pop_constraint,\n",
        "        defect_constraint,\n",
        "    ],\n",
        "    accept=always_accept,\n",
        "    initial_state=initial_partition,\n",
        "    total_steps=10\n",
        ")\n",
        "partitions = list(chain)"
      ],
      "metadata": {
        "id": "yaF5m2tyDS4u"
      },
      "execution_count": null,
      "outputs": []
    },
    {
      "cell_type": "code",
      "source": [
        "import pandas_bokeh\n",
        "pandas_bokeh.output_notebook()\n",
        "\n",
        "height = 600\n",
        "colormap = \"Paired\"\n",
        "\n",
        "xlim = [-106.2, -94.0]\n",
        "ylim = [ 25.4 ,  36.6]\n",
        "width = round((xlim[1] - xlim[0]) / (ylim[1] - ylim[0]) * height)\n",
        "\n",
        "B = pd.concat([p.assignment.to_series() for p in partitions], axis=1)\n",
        "clr = dict(enumerate(np.linspace(0, 256, B[0].nunique()).round().astype(int)))\n",
        "B = B.replace(clr)\n",
        "steps = [str(x) for x in B.columns]\n",
        "B.columns = steps\n",
        "\n",
        "X = gdf.join(B).reset_index()#.iloc[:500]\n",
        "fig = X.plot_bokeh(\n",
        "    simplify_shapes=100,\n",
        "    hovertool_string = f'@county<br>@vtd<br>',# district @{step}<br>pop=@total_pop',\n",
        "    slider=steps,\n",
        "    slider_name=\"step\",\n",
        "    fill_alpha = 0.8,\n",
        "    line_alpha = 0.00,\n",
        "    show_colorbar = False,\n",
        "    xlim = xlim,\n",
        "    ylim = ylim,\n",
        "    figsize = (width, height),\n",
        "    colormap = colormap,\n",
        "    return_html = True,\n",
        "    show_figure = True,\n",
        ")\n",
        "with open(path / 'map.html', 'w') as file:\n",
        "    file.write(fig)"
      ],
      "metadata": {
        "id": "dOrISb1PBkzm"
      },
      "execution_count": null,
      "outputs": []
    },
    {
      "cell_type": "code",
      "source": [
        "import pandas_bokeh\n",
        "pandas_bokeh.output_notebook()\n",
        "\n",
        "cols = ['geometry', 'fips', 'county', 'total', 'density', 'polsby_popper', 'aland', 'perim']\n",
        "gdf = gpd.read_parquet(data_file, columns=cols).to_crs(crs['length'])\n"
      ],
      "metadata": {
        "id": "LyUMVa7Y-Pw_"
      },
      "execution_count": null,
      "outputs": []
    }
  ]
}